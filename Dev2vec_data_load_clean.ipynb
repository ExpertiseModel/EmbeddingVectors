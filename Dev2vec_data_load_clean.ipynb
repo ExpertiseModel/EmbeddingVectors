{
 "cells": [
  {
   "cell_type": "code",
   "execution_count": 3,
   "metadata": {},
   "outputs": [],
   "source": [
    "import pickle\n",
    "import os\n",
    "import re\n",
    "import pandas as pd\n",
    "import numpy as np"
   ]
  },
  {
   "cell_type": "code",
   "execution_count": 4,
   "metadata": {},
   "outputs": [],
   "source": [
    "import seaborn as sns\n",
    "import matplotlib.pyplot as plt"
   ]
  },
  {
   "cell_type": "markdown",
   "metadata": {},
   "source": [
    "### Load Dev2vec:repos dataset"
   ]
  },
  {
   "cell_type": "code",
   "execution_count": 6,
   "metadata": {},
   "outputs": [],
   "source": [
    "#the directory of pickle files\n",
    "usr_dir = r'..\\users'"
   ]
  },
  {
   "cell_type": "code",
   "execution_count": 7,
   "metadata": {},
   "outputs": [],
   "source": [
    "#Load files in pickle format. There is a seperate pickle file per each developer.\n",
    "def open_file(file_path):\n",
    "    with open(file_path, \"rb\") as picklefile:\n",
    "        reader = pickle.load(picklefile)\n",
    "    return(reader)"
   ]
  },
  {
   "cell_type": "code",
   "execution_count": 8,
   "metadata": {},
   "outputs": [],
   "source": [
    "#Seprate lines in text with \\n only (replace other newline tags with \\n)\n",
    "def newline(text):\n",
    "    return '\\n'.join([p for p in re.split(r'\\\\n|\\\\r|\\\\n\\\\n|\\\\r\\\\n|\\r\\n', text) if len(p) > 0])"
   ]
  },
  {
   "cell_type": "code",
   "execution_count": 9,
   "metadata": {},
   "outputs": [],
   "source": [
    "#merge a list of readme files in a single string which are seperated with \\n \n",
    "def merg_RM(RM):\n",
    "    return '\\n '.join(RM)"
   ]
  },
  {
   "cell_type": "code",
   "execution_count": 10,
   "metadata": {},
   "outputs": [],
   "source": [
    "#merge to texts in one single text\n",
    "def merg_text(txt1,txt2):\n",
    "    return txt1 +\"\\n \"+txt2"
   ]
  },
  {
   "cell_type": "code",
   "execution_count": 85,
   "metadata": {},
   "outputs": [],
   "source": [
    "col_name= ['Name','u_id','bio','Repo_Name','ReadMe','tags','topics','textual_all']\n",
    "Corpus = pd.DataFrame(columns = col_name, dtype=object)"
   ]
  },
  {
   "cell_type": "code",
   "execution_count": 86,
   "metadata": {},
   "outputs": [],
   "source": [
    "#loop over all files in a directory and collect required fields\n",
    "for filename in os.listdir(usr_dir):\n",
    "    file_path = os.path.join(usr_dir, filename)\n",
    "    reader = open_file(file_path) \n",
    "    bio   = newline(str(reader['bio']))\n",
    "    Name = str(reader['name'])\n",
    "    try:\n",
    "        u_id= str(reader['u_id'])\n",
    "    except:\n",
    "        u_id =\"none\"\n",
    "        \n",
    "    RM = []\n",
    "    repo_name=[]\n",
    "    repo_tags=[]\n",
    "    repo_topics=[]\n",
    "    repo_text=[]\n",
    "    if(len(reader['repository'])>4):\n",
    "        for row in range(0,len(reader['repository'])):\n",
    "            repo_name_tmp = str(reader['repository'][row]['repo_name'])\n",
    "            repo_RM_tmp = newline(str(reader['repository'][row]['readme']))\n",
    "            repo_tags_tmp = str(reader['repository'][row]['topics'])\n",
    "            repo_topics_tmp=newline(str(reader['repository'][row]['about']))\n",
    "        \n",
    "            repo_name.append(repo_name_tmp)\n",
    "            RM.append(repo_RM_tmp)\n",
    "            repo_tags.append(repo_tags_tmp)\n",
    "            repo_topics.append(repo_topics_tmp)   \n",
    "        \n",
    "            repo_text_tmp = merg_text(merg_text(repo_tags_tmp,repo_topics_tmp),merg_text(repo_name_tmp,repo_RM_tmp))\n",
    "            repo_text.append(repo_text_tmp)\n",
    "        \n",
    "        \n",
    "        \n",
    "        text_all = merg_RM(repo_text) \n",
    "        info_all = merg_text(bio,text_all)\n",
    "    \n",
    "    \n",
    "    Corpus = Corpus.append({'Name':Name,'u_id':u_id,'bio':bio,'Repo_Name':repo_name,'ReadMe':RM,'tags':repo_tags,\n",
    "                            'topics':repo_topics,'textual_all':info_all},ignore_index=True)\n",
    "    "
   ]
  },
  {
   "cell_type": "markdown",
   "metadata": {},
   "source": [
    "#### We want to seperate single-label developers"
   ]
  },
  {
   "cell_type": "code",
   "execution_count": 88,
   "metadata": {},
   "outputs": [],
   "source": [
    "dt1=Corpus[['Name','u_id','textual_all']]"
   ]
  },
  {
   "cell_type": "code",
   "execution_count": 11,
   "metadata": {},
   "outputs": [],
   "source": [
    "dt2 = pd.read_csv('..\\git_data_single_label.csv')"
   ]
  },
  {
   "cell_type": "code",
   "execution_count": 92,
   "metadata": {},
   "outputs": [],
   "source": [
    "dt_count_lb = dt2['label'].value_counts()"
   ]
  },
  {
   "cell_type": "code",
   "execution_count": 93,
   "metadata": {},
   "outputs": [
    {
     "data": {
      "text/plain": [
       "Frontend         598\n",
       "Mobile           380\n",
       "Backend          197\n",
       "DataScientist    158\n",
       "DevOps           127\n",
       "Name: label, dtype: int64"
      ]
     },
     "execution_count": 93,
     "metadata": {},
     "output_type": "execute_result"
    }
   ],
   "source": [
    "dt_count_lb"
   ]
  },
  {
   "cell_type": "code",
   "execution_count": 94,
   "metadata": {},
   "outputs": [],
   "source": [
    "hatches = ['XX','..','++','o','-']"
   ]
  },
  {
   "cell_type": "code",
   "execution_count": 95,
   "metadata": {},
   "outputs": [
    {
     "data": {
      "image/png": "[encoded data removed]",
      "text/plain": [
       "<Figure size 360x288 with 1 Axes>"
      ]
     },
     "metadata": {},
     "output_type": "display_data"
    }
   ],
   "source": [
    "plt.figure(figsize=(5,4))\n",
    "patches=plt.pie(dt_count_lb.values,autopct='%.2f%%', pctdistance=1.22)\n",
    "for i in range(len(patches[0])):\n",
    "    patches[0][i].set(hatch = hatches[i], fill=False)\n",
    "plt.legend(dt_count_lb.index,bbox_to_anchor=(1.5,1.025),loc=\"upper right\")\n",
    "plt.savefig('jobroles.jpg', bbox_inches = 'tight',dpi=100)\n",
    "plt.show()"
   ]
  },
  {
   "cell_type": "code",
   "execution_count": 96,
   "metadata": {},
   "outputs": [],
   "source": [
    "merged_inner = pd.merge(left=dt1, right=dt2[['gh_login','label']], left_on='u_id', right_on='gh_login')"
   ]
  },
  {
   "cell_type": "code",
   "execution_count": 99,
   "metadata": {},
   "outputs": [],
   "source": [
    "txt_dt=merged_inner[['u_id','textual_all','label']]"
   ]
  },
  {
   "cell_type": "code",
   "execution_count": 100,
   "metadata": {},
   "outputs": [],
   "source": [
    "txt_dt.to_csv(r'..\\dev2vec_repos_raw.csv', index=None, header=True)"
   ]
  },
  {
   "cell_type": "code",
   "execution_count": 101,
   "metadata": {},
   "outputs": [
    {
     "data": {
      "text/plain": [
       "24429870"
      ]
     },
     "execution_count": 101,
     "metadata": {},
     "output_type": "execute_result"
    }
   ],
   "source": [
    "#number of words before cleaning\n",
    "txt_dt['textual_all'].apply(lambda x: len(x.split(' '))).sum()"
   ]
  },
  {
   "cell_type": "markdown",
   "metadata": {},
   "source": [
    "### Clean Dev2vec:repos dataset"
   ]
  },
  {
   "cell_type": "code",
   "execution_count": 12,
   "metadata": {},
   "outputs": [],
   "source": [
    "import gensim\n",
    "from gensim.parsing.preprocessing import *"
   ]
  },
  {
   "cell_type": "code",
   "execution_count": 103,
   "metadata": {},
   "outputs": [],
   "source": [
    "#store the textual_all in a sperate varaible\n",
    "documents=txt_dt['textual_all']"
   ]
  },
  {
   "cell_type": "code",
   "execution_count": 13,
   "metadata": {},
   "outputs": [],
   "source": [
    "#seperte sentences with \\n\n",
    "def split_sentence(corpus):\n",
    "    sentences = [doc.split(\"\\n\") for doc in corpus]\n",
    "    return sentences"
   ]
  },
  {
   "cell_type": "code",
   "execution_count": 14,
   "metadata": {},
   "outputs": [],
   "source": [
    "#flat a list of lists into a list\n",
    "def flatten_list(sentences):\n",
    "    flatList = [ item.lower() for elem in sentences for item in elem]\n",
    "    return flatList"
   ]
  },
  {
   "cell_type": "code",
   "execution_count": 15,
   "metadata": {},
   "outputs": [],
   "source": [
    "#tokenize all sentences\n",
    "def token_in_sentence(list_sentences):\n",
    "    list_tokens = [list(gensim.utils.tokenize(doc, lower=True)) for doc in list_sentences]\n",
    "    return list_tokens"
   ]
  },
  {
   "cell_type": "code",
   "execution_count": 16,
   "metadata": {},
   "outputs": [],
   "source": [
    "#build a bundle of actions to clean data\n",
    "def custom_filter():\n",
    "    cstm_filter = [remove_stopwords,split_alphanum, strip_numeric, strip_tags, strip_non_alphanum]\n",
    "    return cstm_filter"
   ]
  },
  {
   "cell_type": "code",
   "execution_count": 17,
   "metadata": {},
   "outputs": [],
   "source": [
    "#cleaning data based on steps define in custom_filter\n",
    "def str_preprocessing(tokenize_sentence):\n",
    "    CUSTOM_FILTERS = custom_filter()\n",
    "    tokens_new = preprocess_string(\" \".join(tokenize_sentence), CUSTOM_FILTERS)\n",
    "    return tokens_new"
   ]
  },
  {
   "cell_type": "code",
   "execution_count": 18,
   "metadata": {},
   "outputs": [],
   "source": [
    "#get the possible phrases in the list of tokens\n",
    "def get_bigram_token(model,tokens):\n",
    "    bigrams = model[tokens]\n",
    "    bi_tokens= [sent for sent in bigrams]\n",
    "    return bi_tokens"
   ]
  },
  {
   "cell_type": "code",
   "execution_count": 110,
   "metadata": {},
   "outputs": [],
   "source": [
    "#split sentence in documents (Corpus['textual_all'])\n",
    "sentences_stream = split_sentence(txt_dt['textual_all'])"
   ]
  },
  {
   "cell_type": "code",
   "execution_count": 112,
   "metadata": {},
   "outputs": [],
   "source": [
    "#tokenize all sentences\n",
    "tokenize_sentence=[]\n",
    "for row in sentences_stream:\n",
    "    tokenize_st = flatten_list(token_in_sentence(row))\n",
    "    tokenize_sentence.append(tokenize_st)"
   ]
  },
  {
   "cell_type": "code",
   "execution_count": 113,
   "metadata": {},
   "outputs": [],
   "source": [
    "#cleaning data with costum actions\n",
    "processing_tokens = [gensim.utils.simple_preprocess(sen) for sen in txt_dt['textual_all']]"
   ]
  },
  {
   "cell_type": "code",
   "execution_count": 114,
   "metadata": {},
   "outputs": [],
   "source": [
    "#cleaning data with costum actions\n",
    "processing_tokens = [str_preprocessing(sen) for sen in tokenize_sentence]"
   ]
  },
  {
   "cell_type": "code",
   "execution_count": 20,
   "metadata": {},
   "outputs": [],
   "source": [
    "import nltk "
   ]
  },
  {
   "cell_type": "code",
   "execution_count": 21,
   "metadata": {},
   "outputs": [
    {
     "name": "stderr",
     "output_type": "stream",
     "text": [
      "[nltk_data] Downloading package words to\n",
      "[nltk_data]     C:\\Users\\morad\\AppData\\Roaming\\nltk_data...\n",
      "[nltk_data]   Package words is already up-to-date!\n"
     ]
    },
    {
     "data": {
      "text/plain": [
       "True"
      ]
     },
     "execution_count": 21,
     "metadata": {},
     "output_type": "execute_result"
    }
   ],
   "source": [
    "nltk.download('words')"
   ]
  },
  {
   "cell_type": "code",
   "execution_count": 22,
   "metadata": {},
   "outputs": [],
   "source": [
    "words = set(nltk.corpus.words.words())"
   ]
  },
  {
   "cell_type": "code",
   "execution_count": 120,
   "metadata": {},
   "outputs": [],
   "source": [
    "english_tokens=[]\n",
    "for row in processing_tokens:\n",
    "    english_tokens.append([w for w in row if w.lower() in words or not w.isalpha()])"
   ]
  },
  {
   "cell_type": "code",
   "execution_count": 121,
   "metadata": {},
   "outputs": [],
   "source": [
    "clean_tokens=[]\n",
    "for row in english_tokens:\n",
    "    clean_tokens.append([w for w in row if len(w) > 2])"
   ]
  },
  {
   "cell_type": "code",
   "execution_count": 124,
   "metadata": {},
   "outputs": [],
   "source": [
    "flatten_tokenize=flatten_list(clean_tokens)"
   ]
  },
  {
   "cell_type": "code",
   "execution_count": 125,
   "metadata": {},
   "outputs": [
    {
     "data": {
      "text/plain": [
       "9135161"
      ]
     },
     "execution_count": 125,
     "metadata": {},
     "output_type": "execute_result"
    }
   ],
   "source": [
    "# number of tokens after cleaning process\n",
    "len(flatten_tokenize)"
   ]
  },
  {
   "cell_type": "markdown",
   "metadata": {},
   "source": [
    "#### build a dataset for doctovec model"
   ]
  },
  {
   "cell_type": "code",
   "execution_count": 127,
   "metadata": {},
   "outputs": [],
   "source": [
    "#build the data\n",
    "dev2vec_repos = {'text_all':clean_tokens,'tags':txt_dt['u_id'],'label':txt_dt['label']}"
   ]
  },
  {
   "cell_type": "code",
   "execution_count": 128,
   "metadata": {},
   "outputs": [],
   "source": [
    "dev2vec_repo_dt = pd.DataFrame(dev2vec_repos)"
   ]
  },
  {
   "cell_type": "code",
   "execution_count": 130,
   "metadata": {},
   "outputs": [],
   "source": [
    "dev2vec_repo_dt.to_csv(r'..\\dev2vec_repo_clean.csv', index=None, header=True)"
   ]
  },
  {
   "cell_type": "markdown",
   "metadata": {},
   "source": [
    "## Load dev2vec:issues dataset"
   ]
  },
  {
   "cell_type": "code",
   "execution_count": 1,
   "metadata": {},
   "outputs": [],
   "source": [
    "#the directory of pickle files for issues\n",
    "issue_dir = r'..\\issues'"
   ]
  },
  {
   "cell_type": "code",
   "execution_count": 23,
   "metadata": {},
   "outputs": [],
   "source": [
    "col_name= ['Name','u_id','bio','Repo_Name','ReadMe','tags','topics','textual_all']\n",
    "Issue_Corpus = pd.DataFrame(columns = col_name, dtype=object)"
   ]
  },
  {
   "cell_type": "code",
   "execution_count": 24,
   "metadata": {},
   "outputs": [],
   "source": [
    "#loop over all files in a directory and collect required fields\n",
    "issues=0\n",
    "error=0\n",
    "for filename in os.listdir(usr_dir):\n",
    "    usr_path = os.path.join(usr_dir, filename)\n",
    "    reader = open_file(usr_path)\n",
    "    try:\n",
    "        issue_path = os.path.join(issue_dir, filename)\n",
    "        issue_reader = open_file(issue_path)\n",
    "    except:\n",
    "        issue_reader=None\n",
    "        \n",
    "    bio   = newline(str(reader['bio']))\n",
    "    Name = str(reader['name'])\n",
    "    try:\n",
    "        u_id= str(reader['u_id'])\n",
    "    except:\n",
    "        u_id =\"none\"\n",
    "\n",
    "        \n",
    "   \n",
    "    repo_name=[]\n",
    "   \n",
    "    issue_text=[]\n",
    "    issue_txt_all=[]\n",
    "    \n",
    "    if(len(reader['repository'])>4):\n",
    "        for row in range(0,len(reader['repository'])):\n",
    "            repo_name_tmp = str(reader['repository'][row]['repo_name'])\n",
    "           \n",
    "        \n",
    "            repo_name.append(repo_name_tmp)  \n",
    "            \n",
    "           \n",
    "            \n",
    "            try:\n",
    "                if((issue_reader is not None) and (issue_reader['issues'][row])):\n",
    "                    for j in issue_reader['issues'][row]:\n",
    "                        issues=issues+1\n",
    "                        issue_title= str(issue_reader['issues'][row][j]['title'])\n",
    "                        issue_body= str(issue_reader['issues'][row][j]['body'])\n",
    "                        issue_temp=merg_text(issue_title,issue_body)\n",
    "                        issue_text.append(issue_temp)\n",
    "            except:\n",
    "                error=error+1\n",
    "            \n",
    "            issue_txt_all.append(issue_text)\n",
    "            \n",
    "            \n",
    "            \n",
    "                \n",
    "        \n",
    "      \n",
    "            \n",
    "        text_all = merg_RM(issue_txt_all) \n",
    "      \n",
    "    \n",
    "        Issue_Corpus = Issue_Corpus.append({'Name':Name,'u_id':u_id,'bio':bio,'Repo_Name':repo_name,\n",
    "                            'textual_all':text_all},ignore_index=True)"
   ]
  },
  {
   "cell_type": "code",
   "execution_count": 25,
   "metadata": {},
   "outputs": [
    {
     "data": {
      "text/plain": [
       "1615"
      ]
     },
     "execution_count": 25,
     "metadata": {},
     "output_type": "execute_result"
    }
   ],
   "source": [
    "len(Issue_Corpus)"
   ]
  },
  {
   "cell_type": "code",
   "execution_count": 26,
   "metadata": {},
   "outputs": [],
   "source": [
    "dt3=Issue_Corpus[['Name','u_id','textual_all']]"
   ]
  },
  {
   "cell_type": "code",
   "execution_count": 27,
   "metadata": {},
   "outputs": [],
   "source": [
    "merged_inner_issue = pd.merge(left=dt3, right=dt2[['gh_login','label']], left_on='u_id', right_on='gh_login')"
   ]
  },
  {
   "cell_type": "code",
   "execution_count": 28,
   "metadata": {},
   "outputs": [
    {
     "data": {
      "text/plain": [
       "1306"
      ]
     },
     "execution_count": 28,
     "metadata": {},
     "output_type": "execute_result"
    }
   ],
   "source": [
    "len(merged_inner_issue)"
   ]
  },
  {
   "cell_type": "code",
   "execution_count": 29,
   "metadata": {},
   "outputs": [],
   "source": [
    "issue_txt_dt=merged_inner_issue[['u_id','textual_all','label']]"
   ]
  },
  {
   "cell_type": "code",
   "execution_count": 57,
   "metadata": {},
   "outputs": [],
   "source": [
    "issue_txt_dt.to_csv(r'..\\dev2vec_issues_raw.csv', index=None, header=True)"
   ]
  },
  {
   "cell_type": "code",
   "execution_count": 30,
   "metadata": {},
   "outputs": [
    {
     "data": {
      "text/plain": [
       "2593012"
      ]
     },
     "execution_count": 30,
     "metadata": {},
     "output_type": "execute_result"
    }
   ],
   "source": [
    "#number of words before cleaning\n",
    "issue_txt_dt['textual_all'].apply(lambda x: len(x.split(' '))).sum()"
   ]
  },
  {
   "cell_type": "markdown",
   "metadata": {},
   "source": [
    "## Clean dev2vec:issues data"
   ]
  },
  {
   "cell_type": "code",
   "execution_count": 31,
   "metadata": {},
   "outputs": [],
   "source": [
    "#split sentence in documents (Corpus['textual_all'])\n",
    "issue_sentences_stream = split_sentence(issue_txt_dt['textual_all'])"
   ]
  },
  {
   "cell_type": "code",
   "execution_count": 41,
   "metadata": {},
   "outputs": [],
   "source": [
    "#tokenize all sentences\n",
    "issue_tokenize_sentence=[]\n",
    "for row in issue_sentences_stream:\n",
    "    tokenize_st = flatten_list(token_in_sentence(row))\n",
    "    issue_tokenize_sentence.append(tokenize_st)"
   ]
  },
  {
   "cell_type": "code",
   "execution_count": 43,
   "metadata": {},
   "outputs": [],
   "source": [
    "#cleaning data with costum actions\n",
    "issue_processing_tokens = [str_preprocessing(sen) for sen in issue_tokenize_sentence]"
   ]
  },
  {
   "cell_type": "code",
   "execution_count": 45,
   "metadata": {},
   "outputs": [],
   "source": [
    "issue_english_tokens=[]\n",
    "for row in issue_processing_tokens:\n",
    "    issue_english_tokens.append([w for w in row if w.lower() in words or not w.isalpha()])"
   ]
  },
  {
   "cell_type": "code",
   "execution_count": 46,
   "metadata": {},
   "outputs": [],
   "source": [
    "issue_clean_tokens=[]\n",
    "for row in issue_english_tokens:\n",
    "    issue_clean_tokens.append([w for w in row if len(w) > 2])"
   ]
  },
  {
   "cell_type": "code",
   "execution_count": 49,
   "metadata": {},
   "outputs": [],
   "source": [
    "flatten_tokenize=flatten_list(issue_clean_tokens)"
   ]
  },
  {
   "cell_type": "code",
   "execution_count": 50,
   "metadata": {},
   "outputs": [
    {
     "data": {
      "text/plain": [
       "978445"
      ]
     },
     "execution_count": 50,
     "metadata": {},
     "output_type": "execute_result"
    }
   ],
   "source": [
    "# number of tokens after cleaning process\n",
    "len(flatten_tokenize)"
   ]
  },
  {
   "cell_type": "code",
   "execution_count": 51,
   "metadata": {},
   "outputs": [],
   "source": [
    "#build the model\n",
    "dev2vec_issues = {'text_all':issue_clean_tokens,'tags':issue_txt_dt['u_id'],'label':issue_txt_dt['label']}"
   ]
  },
  {
   "cell_type": "code",
   "execution_count": 53,
   "metadata": {},
   "outputs": [],
   "source": [
    "dev2vec_issues_dt = pd.DataFrame(dev2vec_issues)"
   ]
  },
  {
   "cell_type": "code",
   "execution_count": 56,
   "metadata": {},
   "outputs": [],
   "source": [
    "dev2vec_issues_dt.to_csv(r'..\\dev2vec_issue_clean.csv', index=None, header=True)"
   ]
  },
  {
   "cell_type": "code",
   "execution_count": null,
   "metadata": {},
   "outputs": [],
   "source": []
  }
 ],
 "metadata": {
  "kernelspec": {
   "display_name": "Python 3",
   "language": "python",
   "name": "python3"
  },
  "language_info": {
   "codemirror_mode": {
    "name": "ipython",
    "version": 3
   },
   "file_extension": ".py",
   "mimetype": "text/x-python",
   "name": "python",
   "nbconvert_exporter": "python",
   "pygments_lexer": "ipython3",
   "version": "3.7.4"
  }
 },
 "nbformat": 4,
 "nbformat_minor": 2
}
